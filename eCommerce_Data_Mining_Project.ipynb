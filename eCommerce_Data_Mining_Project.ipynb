{
  "nbformat": 4,
  "nbformat_minor": 0,
  "metadata": {
    "colab": {
      "name": "Data Mining Keode",
      "provenance": [],
      "collapsed_sections": [
        "sIxkRIAC5iuZ",
        "6vh_AERM6ZfY",
        "phLQzyqVBEUp",
        "7dO09HS9-Bic",
        "EWN4zeVXAtKx",
        "9i9QaneiYNH8",
        "lEsHXjam5L9K"
      ]
    },
    "kernelspec": {
      "name": "python3",
      "display_name": "Python 3"
    },
    "language_info": {
      "name": "python"
    }
  },
  "cells": [
    {
      "cell_type": "markdown",
      "metadata": {
        "id": "xmzcPXav4tt5"
      },
      "source": [
        "**Project Data Mining, Marco Gregorius Suitela**\n"
      ]
    },
    {
      "cell_type": "markdown",
      "metadata": {
        "id": "Ymh8X94P6PxD"
      },
      "source": [
        "**Introduction**\n",
        "\n",
        "Understanding customers buying behaviour is always the holy grail for the eCommerce industry. When we understand our customer behaviour, we can gain insight and knowledge to improve our business. With good understanding, we can eventually improving everything in our business such as higher sales, website improvement, and even make our customer more satisfied.\n",
        "\n",
        "In this project, I'm using eCommerce behaviour data from a multi-category store from Kaggle. Following the CRISP-DM process, I'll make analysis about 4 aspect, which is :\n",
        "\n",
        "  1. Website Analysis\n",
        "*   Seeing the website traffic\n",
        "\n",
        "  2. Event Data Analysis\n",
        "*   Seeing what customer do, based on the event_type variable\n",
        "\n",
        "  3. Brand/Product Analysis\n",
        "*   Seeing what categories of product this website sell\n",
        "*   Seeing what brand this website sell\n",
        "*   Seeing what is the top brand according to the sales\n",
        "\n",
        "  4. User/Customer Analysis\n",
        "*   Seeing 3 user activities\n",
        "*   Calculating the user who bought something, and counting how many user who bought more than once."
      ]
    },
    {
      "cell_type": "markdown",
      "metadata": {
        "id": "sIxkRIAC5iuZ"
      },
      "source": [
        "# **DATASET Preparation**\n",
        "\n",
        "Installing Packages, Making Connection, and Load the Dataset"
      ]
    },
    {
      "cell_type": "code",
      "metadata": {
        "id": "dGnG824P5d66"
      },
      "source": [
        "#1. Load Packages\n",
        "import pandas as pd\n",
        "import numpy as np\n",
        "import seaborn as sns\n",
        "import matplotlib.pyplot as plt\n",
        "import matplotlib.dates as dates \n",
        "from datetime import datetime\n",
        "from sklearn.preprocessing import OrdinalEncoder\n",
        "from sklearn.preprocessing import OneHotEncoder"
      ],
      "execution_count": null,
      "outputs": []
    },
    {
      "cell_type": "code",
      "metadata": {
        "colab": {
          "base_uri": "https://localhost:8080/"
        },
        "id": "Ur1OcHp66CuL",
        "outputId": "8b1cef52-23ec-418a-cd7b-7a442f6fd178"
      },
      "source": [
        "# mounted google drive\n",
        "import google.colab as gc\n",
        "gc.drive.mount('/content/drive')"
      ],
      "execution_count": null,
      "outputs": [
        {
          "output_type": "stream",
          "text": [
            "Mounted at /content/drive\n"
          ],
          "name": "stdout"
        }
      ]
    },
    {
      "cell_type": "code",
      "metadata": {
        "colab": {
          "base_uri": "https://localhost:8080/"
        },
        "id": "YkzoB6MU6FoE",
        "outputId": "a7dc102e-75da-4221-d4c7-6e5acf64099d"
      },
      "source": [
        "from google.colab import drive\n",
        "drive.mount('/content/drive')"
      ],
      "execution_count": null,
      "outputs": [
        {
          "output_type": "stream",
          "text": [
            "Drive already mounted at /content/drive; to attempt to forcibly remount, call drive.mount(\"/content/drive\", force_remount=True).\n"
          ],
          "name": "stdout"
        }
      ]
    },
    {
      "cell_type": "code",
      "metadata": {
        "colab": {
          "base_uri": "https://localhost:8080/"
        },
        "id": "IT3wLPTX6Ke0",
        "outputId": "34fac978-9547-4d86-f784-98eabe22561d"
      },
      "source": [
        "# check the path\n",
        "!pwd"
      ],
      "execution_count": null,
      "outputs": [
        {
          "output_type": "stream",
          "text": [
            "/content\n"
          ],
          "name": "stdout"
        }
      ]
    },
    {
      "cell_type": "code",
      "metadata": {
        "colab": {
          "base_uri": "https://localhost:8080/"
        },
        "id": "LHqULZeW6MxY",
        "outputId": "8a41cd50-a4a3-43bf-eae3-0961b343ea99"
      },
      "source": [
        "# change folder\n",
        "%cd '/content/drive/My Drive/Dibimbing/data_file/'"
      ],
      "execution_count": null,
      "outputs": [
        {
          "output_type": "stream",
          "text": [
            "/content/drive/.shortcut-targets-by-id/1t8EkfV-chB44rwwHoMuk27bpM9uQIAqz/data_file\n"
          ],
          "name": "stdout"
        }
      ]
    },
    {
      "cell_type": "code",
      "metadata": {
        "colab": {
          "base_uri": "https://localhost:8080/"
        },
        "id": "Qyz1gC5d6Nf4",
        "outputId": "d72282e4-086c-4b3b-f224-d61a7608ab4f"
      },
      "source": [
        "#check file in the folder\n",
        "!ls"
      ],
      "execution_count": null,
      "outputs": [
        {
          "output_type": "stream",
          "text": [
            " 2019-Nov.csv\n",
            " 2019-Nov.pkl\n",
            " 2019-Oct.csv\n",
            " 2019-Oct.hdf5\n",
            " 2019-Oct.pkl\n",
            " 2019-Oct.yaml\n",
            " data_student.pkl\n",
            " earthquake_data.csv\n",
            " ecommerce-behavior-data-from-multi-category-store.zip\n",
            " melb_data.csv\n",
            "'property data.csv'\n",
            " quiz_data.json\n",
            "'social media visitors (1).gsheet'\n",
            "'social media visitors (2).gsheet'\n",
            "'social media visitors.gsheet'\n",
            " student_grade_prediction.xlsx\n",
            " USA_Housing.csv\n",
            " USA_Housing.gsheet\n"
          ],
          "name": "stdout"
        }
      ]
    },
    {
      "cell_type": "code",
      "metadata": {
        "colab": {
          "base_uri": "https://localhost:8080/"
        },
        "id": "a6MHUugL6Qbc",
        "outputId": "ef9263f6-d037-4ed8-da6f-c86ac1221d95"
      },
      "source": [
        "#read the data\n",
        "df = pd.read_csv('2019-Oct.csv')\n",
        "df.head(10)"
      ],
      "execution_count": null,
      "outputs": [
        {
          "output_type": "execute_result",
          "data": {
            "text/html": [
              "<div>\n",
              "<style scoped>\n",
              "    .dataframe tbody tr th:only-of-type {\n",
              "        vertical-align: middle;\n",
              "    }\n",
              "\n",
              "    .dataframe tbody tr th {\n",
              "        vertical-align: top;\n",
              "    }\n",
              "\n",
              "    .dataframe thead th {\n",
              "        text-align: right;\n",
              "    }\n",
              "</style>\n",
              "<table border=\"1\" class=\"dataframe\">\n",
              "  <thead>\n",
              "    <tr style=\"text-align: right;\">\n",
              "      <th></th>\n",
              "      <th>event_time</th>\n",
              "      <th>event_type</th>\n",
              "      <th>product_id</th>\n",
              "      <th>category_id</th>\n",
              "      <th>category_code</th>\n",
              "      <th>brand</th>\n",
              "      <th>price</th>\n",
              "      <th>user_id</th>\n",
              "      <th>user_session</th>\n",
              "    </tr>\n",
              "  </thead>\n",
              "  <tbody>\n",
              "    <tr>\n",
              "      <th>0</th>\n",
              "      <td>2019-10-01 00:00:00 UTC</td>\n",
              "      <td>view</td>\n",
              "      <td>44600062</td>\n",
              "      <td>2103807459595387724</td>\n",
              "      <td>NaN</td>\n",
              "      <td>shiseido</td>\n",
              "      <td>35.79</td>\n",
              "      <td>541312140</td>\n",
              "      <td>72d76fde-8bb3-4e00-8c23-a032dfed738c</td>\n",
              "    </tr>\n",
              "    <tr>\n",
              "      <th>1</th>\n",
              "      <td>2019-10-01 00:00:00 UTC</td>\n",
              "      <td>view</td>\n",
              "      <td>3900821</td>\n",
              "      <td>2053013552326770905</td>\n",
              "      <td>appliances.environment.water_heater</td>\n",
              "      <td>aqua</td>\n",
              "      <td>33.20</td>\n",
              "      <td>554748717</td>\n",
              "      <td>9333dfbd-b87a-4708-9857-6336556b0fcc</td>\n",
              "    </tr>\n",
              "    <tr>\n",
              "      <th>2</th>\n",
              "      <td>2019-10-01 00:00:01 UTC</td>\n",
              "      <td>view</td>\n",
              "      <td>17200506</td>\n",
              "      <td>2053013559792632471</td>\n",
              "      <td>furniture.living_room.sofa</td>\n",
              "      <td>NaN</td>\n",
              "      <td>543.10</td>\n",
              "      <td>519107250</td>\n",
              "      <td>566511c2-e2e3-422b-b695-cf8e6e792ca8</td>\n",
              "    </tr>\n",
              "    <tr>\n",
              "      <th>3</th>\n",
              "      <td>2019-10-01 00:00:01 UTC</td>\n",
              "      <td>view</td>\n",
              "      <td>1307067</td>\n",
              "      <td>2053013558920217191</td>\n",
              "      <td>computers.notebook</td>\n",
              "      <td>lenovo</td>\n",
              "      <td>251.74</td>\n",
              "      <td>550050854</td>\n",
              "      <td>7c90fc70-0e80-4590-96f3-13c02c18c713</td>\n",
              "    </tr>\n",
              "    <tr>\n",
              "      <th>4</th>\n",
              "      <td>2019-10-01 00:00:04 UTC</td>\n",
              "      <td>view</td>\n",
              "      <td>1004237</td>\n",
              "      <td>2053013555631882655</td>\n",
              "      <td>electronics.smartphone</td>\n",
              "      <td>apple</td>\n",
              "      <td>1081.98</td>\n",
              "      <td>535871217</td>\n",
              "      <td>c6bd7419-2748-4c56-95b4-8cec9ff8b80d</td>\n",
              "    </tr>\n",
              "    <tr>\n",
              "      <th>5</th>\n",
              "      <td>2019-10-01 00:00:05 UTC</td>\n",
              "      <td>view</td>\n",
              "      <td>1480613</td>\n",
              "      <td>2053013561092866779</td>\n",
              "      <td>computers.desktop</td>\n",
              "      <td>pulser</td>\n",
              "      <td>908.62</td>\n",
              "      <td>512742880</td>\n",
              "      <td>0d0d91c2-c9c2-4e81-90a5-86594dec0db9</td>\n",
              "    </tr>\n",
              "    <tr>\n",
              "      <th>6</th>\n",
              "      <td>2019-10-01 00:00:08 UTC</td>\n",
              "      <td>view</td>\n",
              "      <td>17300353</td>\n",
              "      <td>2053013553853497655</td>\n",
              "      <td>NaN</td>\n",
              "      <td>creed</td>\n",
              "      <td>380.96</td>\n",
              "      <td>555447699</td>\n",
              "      <td>4fe811e9-91de-46da-90c3-bbd87ed3a65d</td>\n",
              "    </tr>\n",
              "    <tr>\n",
              "      <th>7</th>\n",
              "      <td>2019-10-01 00:00:08 UTC</td>\n",
              "      <td>view</td>\n",
              "      <td>31500053</td>\n",
              "      <td>2053013558031024687</td>\n",
              "      <td>NaN</td>\n",
              "      <td>luminarc</td>\n",
              "      <td>41.16</td>\n",
              "      <td>550978835</td>\n",
              "      <td>6280d577-25c8-4147-99a7-abc6048498d6</td>\n",
              "    </tr>\n",
              "    <tr>\n",
              "      <th>8</th>\n",
              "      <td>2019-10-01 00:00:10 UTC</td>\n",
              "      <td>view</td>\n",
              "      <td>28719074</td>\n",
              "      <td>2053013565480109009</td>\n",
              "      <td>apparel.shoes.keds</td>\n",
              "      <td>baden</td>\n",
              "      <td>102.71</td>\n",
              "      <td>520571932</td>\n",
              "      <td>ac1cd4e5-a3ce-4224-a2d7-ff660a105880</td>\n",
              "    </tr>\n",
              "    <tr>\n",
              "      <th>9</th>\n",
              "      <td>2019-10-01 00:00:11 UTC</td>\n",
              "      <td>view</td>\n",
              "      <td>1004545</td>\n",
              "      <td>2053013555631882655</td>\n",
              "      <td>electronics.smartphone</td>\n",
              "      <td>huawei</td>\n",
              "      <td>566.01</td>\n",
              "      <td>537918940</td>\n",
              "      <td>406c46ed-90a4-4787-a43b-59a410c1a5fb</td>\n",
              "    </tr>\n",
              "  </tbody>\n",
              "</table>\n",
              "</div>"
            ],
            "text/plain": [
              "                event_time  ...                          user_session\n",
              "0  2019-10-01 00:00:00 UTC  ...  72d76fde-8bb3-4e00-8c23-a032dfed738c\n",
              "1  2019-10-01 00:00:00 UTC  ...  9333dfbd-b87a-4708-9857-6336556b0fcc\n",
              "2  2019-10-01 00:00:01 UTC  ...  566511c2-e2e3-422b-b695-cf8e6e792ca8\n",
              "3  2019-10-01 00:00:01 UTC  ...  7c90fc70-0e80-4590-96f3-13c02c18c713\n",
              "4  2019-10-01 00:00:04 UTC  ...  c6bd7419-2748-4c56-95b4-8cec9ff8b80d\n",
              "5  2019-10-01 00:00:05 UTC  ...  0d0d91c2-c9c2-4e81-90a5-86594dec0db9\n",
              "6  2019-10-01 00:00:08 UTC  ...  4fe811e9-91de-46da-90c3-bbd87ed3a65d\n",
              "7  2019-10-01 00:00:08 UTC  ...  6280d577-25c8-4147-99a7-abc6048498d6\n",
              "8  2019-10-01 00:00:10 UTC  ...  ac1cd4e5-a3ce-4224-a2d7-ff660a105880\n",
              "9  2019-10-01 00:00:11 UTC  ...  406c46ed-90a4-4787-a43b-59a410c1a5fb\n",
              "\n",
              "[10 rows x 9 columns]"
            ]
          },
          "metadata": {
            "tags": []
          },
          "execution_count": 10
        }
      ]
    },
    {
      "cell_type": "markdown",
      "metadata": {
        "id": "6vh_AERM6ZfY"
      },
      "source": [
        "# **DATASET Checking**\n",
        "\n",
        "1. Information about the data type (Glimpse)\n",
        "\n",
        "2. Checking Missing Value"
      ]
    },
    {
      "cell_type": "code",
      "metadata": {
        "colab": {
          "base_uri": "https://localhost:8080/"
        },
        "id": "XVP0ol_r6mqc",
        "outputId": "1e274949-5cda-42e8-bf1f-7d5ccf15929d"
      },
      "source": [
        "#1. Dataset glimpse\n",
        "df.info()"
      ],
      "execution_count": null,
      "outputs": [
        {
          "output_type": "stream",
          "text": [
            "<class 'pandas.core.frame.DataFrame'>\n",
            "RangeIndex: 42448764 entries, 0 to 42448763\n",
            "Data columns (total 9 columns):\n",
            " #   Column         Dtype  \n",
            "---  ------         -----  \n",
            " 0   event_time     object \n",
            " 1   event_type     object \n",
            " 2   product_id     int64  \n",
            " 3   category_id    int64  \n",
            " 4   category_code  object \n",
            " 5   brand          object \n",
            " 6   price          float64\n",
            " 7   user_id        int64  \n",
            " 8   user_session   object \n",
            "dtypes: float64(1), int64(3), object(5)\n",
            "memory usage: 2.8+ GB\n"
          ],
          "name": "stdout"
        }
      ]
    },
    {
      "cell_type": "code",
      "metadata": {
        "id": "-Grb8hyMpJNW"
      },
      "source": [
        "#2. Convert event_time \n",
        "df['event_time']=pd.to_datetime(df['event_time']).dt.tz_convert(None)\n",
        "df['event_type']=df['event_type'].astype('category')\n",
        "df['category_code']=df['category_code'].astype('category')"
      ],
      "execution_count": null,
      "outputs": []
    },
    {
      "cell_type": "code",
      "metadata": {
        "id": "zTDqz4dtonke"
      },
      "source": [
        "#3. creating a summary table for general overview\n",
        "daily_summary_table=df.groupby(by=[df['event_time'].dt.normalize()]).agg(Number_of_daily_visits=('user_session',lambda x: x.nunique()),\n",
        "                                                                                  Number_of_daily_visitors=('user_id',lambda x: x.nunique())\n",
        "                                                                                  )\n",
        "sales_filter=df['event_type']=='purchase'\n",
        "sales=df.loc[sales_filter].groupby(by=[df['event_time'].dt.normalize()]).agg(number_of_daily_sales=('event_type','count'),\n",
        "                                                                                      Total_daily_sales=('price','sum')\n",
        "                                                                                      ).reset_index()\n",
        "daily_summary_table=pd.merge(left=daily_summary_table,\n",
        "                          right=sales,\n",
        "                          left_on=['event_time'],\n",
        "                          right_on=['event_time'],\n",
        "                          how='left')\n",
        "daily_summary_table['conversion_rate']=daily_summary_table['number_of_daily_sales']/daily_summary_table['Number_of_daily_visits']"
      ],
      "execution_count": null,
      "outputs": []
    },
    {
      "cell_type": "code",
      "metadata": {
        "colab": {
          "base_uri": "https://localhost:8080/"
        },
        "id": "ACe1uoR07Obc",
        "outputId": "95eb7ea8-7f58-47da-8404-d024b3903329"
      },
      "source": [
        "#4. Missing Value Checking\n",
        "df.isnull().sum().sum()"
      ],
      "execution_count": null,
      "outputs": [
        {
          "output_type": "execute_result",
          "data": {
            "text/plain": [
              "19632691"
            ]
          },
          "metadata": {
            "tags": []
          },
          "execution_count": 14
        }
      ]
    },
    {
      "cell_type": "markdown",
      "metadata": {
        "id": "4VzDhb1I8B-k"
      },
      "source": [
        "Jadi terdapat 19.632.691 Missing Value dengan rincian sbb:"
      ]
    },
    {
      "cell_type": "code",
      "metadata": {
        "colab": {
          "base_uri": "https://localhost:8080/"
        },
        "id": "nIuJEZj88Iai",
        "outputId": "8b26f260-5092-4f8f-beac-6bea3192ede4"
      },
      "source": [
        "#Mendeteksi di-variabel mana terdapat missing value\n",
        "df.isnull().sum()"
      ],
      "execution_count": null,
      "outputs": [
        {
          "output_type": "execute_result",
          "data": {
            "text/plain": [
              "event_time              0\n",
              "event_type              0\n",
              "product_id              0\n",
              "category_id             0\n",
              "category_code    13515609\n",
              "brand             6117080\n",
              "price                   0\n",
              "user_id                 0\n",
              "user_session            2\n",
              "dtype: int64"
            ]
          },
          "metadata": {
            "tags": []
          },
          "execution_count": 13
        }
      ]
    },
    {
      "cell_type": "markdown",
      "metadata": {
        "id": "ImtxkYsh8gtk"
      },
      "source": [
        "Jadi Missing Value terdapat pada 3 variabel, dengan rincian sbb:\n",
        "\n",
        "1. Category Code sebanyak 13.515.609\n",
        "\n",
        "2. Brand sebanyak 6.117.080\n",
        "\n",
        "3. User Session sebanyak 2\n",
        "\n",
        "Untuk menangani missing value tsb, menurut saya tidak perlu diapa-apakan karena variabel category_code dan brand merupakan variabel \"object\" jadi tidak begitu berpengaruh terhadap pengolahan data secara statistik."
      ]
    },
    {
      "cell_type": "markdown",
      "metadata": {
        "id": "phLQzyqVBEUp"
      },
      "source": [
        "# **Website Analysis**\n",
        "\n",
        "Di bagian ini, saya akan menganalisis bagaimana traffic dalam platfrom e-commerce ini"
      ]
    },
    {
      "cell_type": "code",
      "metadata": {
        "colab": {
          "base_uri": "https://localhost:8080/",
          "height": 1000
        },
        "id": "kCoHK4LjrQdu",
        "outputId": "cc6fdbc2-5c52-49aa-b5df-8a6aad9c0954"
      },
      "source": [
        "#Daily Visits\n",
        "print('Daily Visits Statistics')\n",
        "print('-'*50)\n",
        "print(daily_summary_table['Number_of_daily_visits'].describe())\n",
        "print('-'*50)\n",
        "print('Visit Statistics by Dates')\n",
        "print('-'*50)\n",
        "print(daily_summary_table.groupby(by=daily_summary_table['event_time'].dt.day_name())['Number_of_daily_visits'].describe())\n",
        "\n",
        "#Plotting number of daily visits\n",
        "fig=plt.figure(figsize=(18,9))\n",
        "ax1=fig.add_subplot(2,1,1)\n",
        "sns.lineplot(x='event_time',\n",
        "              y='Number_of_daily_visits',\n",
        "              data=daily_summary_table,\n",
        "             ax=ax1)\n",
        "plt.title('Daily Visits')\n",
        "plt.ylabel('Number of Daily Visits')\n",
        "plt.xlabel('Dates')\n",
        "\n",
        "ax2=fig.add_subplot(2,1,2)\n",
        "\n",
        "sns.boxplot(x=daily_summary_table['event_time'].dt.dayofweek,\n",
        "            y='Number_of_daily_visits',\n",
        "            data=daily_summary_table,\n",
        "           ax=ax2)\n",
        "plt.title('Number of Visit by days')\n",
        "plt.ylabel('Number of Visits')\n",
        "plt.xlabel('Days')\n",
        "plt.xticks([0, 1, 2,3,4,5,6], ['Monday','Tuesday','Wednesday','Thursday','Friday','Saturday','Sunday'])\n",
        "fig.tight_layout(pad=3.0);"
      ],
      "execution_count": null,
      "outputs": [
        {
          "output_type": "stream",
          "text": [
            "Daily Visits Statistics\n",
            "--------------------------------------------------\n",
            "count        31.000000\n",
            "mean     299510.548387\n",
            "std       25531.553700\n",
            "min      241086.000000\n",
            "25%      278957.500000\n",
            "50%      301219.000000\n",
            "75%      319668.500000\n",
            "max      339943.000000\n",
            "Name: Number_of_daily_visits, dtype: float64\n",
            "--------------------------------------------------\n",
            "Visit Statistics by Dates\n",
            "--------------------------------------------------\n",
            "            count       mean           std  ...       50%        75%       max\n",
            "event_time                                  ...                               \n",
            "Friday        4.0  321772.50  16017.261304  ...  325731.0  333799.50  334977.0\n",
            "Monday        4.0  293353.00  26033.151442  ...  294346.5  311089.50  321282.0\n",
            "Saturday      4.0  298041.75  19140.215435  ...  296976.5  308605.50  321300.0\n",
            "Sunday        4.0  309080.00  32756.353552  ...  311671.5  335116.75  339943.0\n",
            "Thursday      5.0  282820.60  24557.356776  ...  293587.0  295142.00  302842.0\n",
            "Tuesday       5.0  301032.40  27672.766817  ...  308348.0  316706.00  334648.0\n",
            "Wednesday     5.0  295314.60  27194.956762  ...  301219.0  310453.00  328743.0\n",
            "\n",
            "[7 rows x 8 columns]\n"
          ],
          "name": "stdout"
        },
        {
          "output_type": "display_data",
          "data": {
            "image/png": "[encoded data removed]",
            "text/plain": [
              "<Figure size 1296x648 with 2 Axes>"
            ]
          },
          "metadata": {
            "tags": [],
            "needs_background": "light"
          }
        }
      ]
    },
    {
      "cell_type": "markdown",
      "metadata": {
        "id": "7dO09HS9-Bic"
      },
      "source": [
        "# **Event Data Analysis**\n",
        "\n",
        "Di bagian ini, saya akan menganalisis variabel-variabel yang berhubungan dengan \"event\" atau kegiatan customer di marketplace ini."
      ]
    },
    {
      "cell_type": "code",
      "metadata": {
        "colab": {
          "base_uri": "https://localhost:8080/"
        },
        "id": "vMNR_mZ997hw",
        "outputId": "aaffdaad-8d7a-45d6-addd-5ec84a6a9764"
      },
      "source": [
        "#1. Melihat Aktifitas Konsumen berdasarkan event_type\n",
        "df[\"event_type\"].value_counts()"
      ],
      "execution_count": null,
      "outputs": [
        {
          "output_type": "execute_result",
          "data": {
            "text/plain": [
              "view        40779399\n",
              "cart          926516\n",
              "purchase      742849\n",
              "Name: event_type, dtype: int64"
            ]
          },
          "metadata": {
            "tags": []
          },
          "execution_count": 14
        }
      ]
    },
    {
      "cell_type": "code",
      "metadata": {
        "colab": {
          "base_uri": "https://localhost:8080/",
          "height": 403
        },
        "id": "Ck8eRDgr--Kl",
        "outputId": "40862bac-ac80-4bf5-e4a7-236ffbd70984"
      },
      "source": [
        "#Visualisasi aktifitas konsumen dalam diagram batang (histogram)\n",
        "fig, axes = plt.subplots(nrows=1, ncols=2, figsize=(14, 6))\n",
        "axes[0].bar(df[\"event_type\"].value_counts().index,df[\"event_type\"].value_counts().values)\n",
        "axes[1].pie(df[\"event_type\"].value_counts().values)\n",
        "axes[1].legend(df[\"event_type\"].value_counts().index)"
      ],
      "execution_count": null,
      "outputs": [
        {
          "output_type": "execute_result",
          "data": {
            "text/plain": [
              "<matplotlib.legend.Legend at 0x7f9ab80e3ad0>"
            ]
          },
          "metadata": {
            "tags": []
          },
          "execution_count": 15
        },
        {
          "output_type": "display_data",
          "data": {
            "image/png": "[encoded data removed]",
            "text/plain": [
              "<Figure size 1008x432 with 2 Axes>"
            ]
          },
          "metadata": {
            "tags": [],
            "needs_background": "light"
          }
        }
      ]
    },
    {
      "cell_type": "code",
      "metadata": {
        "colab": {
          "base_uri": "https://localhost:8080/",
          "height": 487
        },
        "id": "xUo5mzxX_T1W",
        "outputId": "1e3045cf-ebc1-4c2c-ba5b-0d0935538de8"
      },
      "source": [
        "#Visualisasi aktifitas konsumen dalam diagram lingkaran dengan persen\n",
        "labels = ['View', 'Cart','Purchase']\n",
        "size = df['event_type'].value_counts()\n",
        "colors = ['pink', 'yellow','lightblue']\n",
        "explode = [0, 0.1,0.1]\n",
        "\n",
        "plt.rcParams['figure.figsize'] = (8, 8)\n",
        "plt.pie(size, colors = colors, explode = explode, labels = labels, shadow = True, autopct = '%.2f%%')\n",
        "plt.title('Event Type', fontsize = 20)\n",
        "plt.axis('off')\n",
        "plt.legend()\n",
        "plt.show()"
      ],
      "execution_count": null,
      "outputs": [
        {
          "output_type": "display_data",
          "data": {
            "image/png": "[encoded data removed]",
            "text/plain": [
              "<Figure size 576x576 with 1 Axes>"
            ]
          },
          "metadata": {
            "tags": []
          }
        }
      ]
    },
    {
      "cell_type": "markdown",
      "metadata": {
        "id": "EWN4zeVXAtKx"
      },
      "source": [
        "# **Brand / Product Data Analysis**\n",
        "\n",
        "Di bagian ini saya akan menganalisis beberapa hal yang berhubungan dengan brand/produk yang dijual di platform ini, seperti\n",
        "\n",
        "1. Jenis Produk yang dijual\n",
        "\n",
        "2. Brand apa saja yang dijual\n",
        "\n",
        "3. Brand yang paling laku\n"
      ]
    },
    {
      "cell_type": "code",
      "metadata": {
        "colab": {
          "base_uri": "https://localhost:8080/"
        },
        "id": "zQPRnOY-AxZ7",
        "outputId": "32ec43bc-f4e6-421e-8176-b6b604112cbf"
      },
      "source": [
        "#1. Jenis produk yang dijual\n",
        "\n",
        "df[\"category_code\"].value_counts()"
      ],
      "execution_count": null,
      "outputs": [
        {
          "output_type": "execute_result",
          "data": {
            "text/plain": [
              "electronics.smartphone          11507231\n",
              "electronics.clocks               1311033\n",
              "computers.notebook               1137623\n",
              "electronics.video.tv             1113750\n",
              "electronics.audio.headphone      1100188\n",
              "                                  ...   \n",
              "construction.tools.soldering         632\n",
              "apparel.shorts                       632\n",
              "apparel.jacket                       436\n",
              "auto.accessories.anti_freeze         308\n",
              "country_yard.furniture.bench         190\n",
              "Name: category_code, Length: 126, dtype: int64"
            ]
          },
          "metadata": {
            "tags": []
          },
          "execution_count": 17
        }
      ]
    },
    {
      "cell_type": "markdown",
      "metadata": {
        "id": "6R2k-JZZ117d"
      },
      "source": [
        "Di e-commerce ini, menjual 126 jenis barang,\n",
        "\n",
        "Untuk barang yang paling banyak dijual adalah smartphone, dan yang paling sedikit adalah furniture (bench)"
      ]
    },
    {
      "cell_type": "code",
      "metadata": {
        "colab": {
          "base_uri": "https://localhost:8080/",
          "height": 621
        },
        "id": "1xeU8YBOAU73",
        "outputId": "fbea582f-59ed-4062-832c-be4372685c6c"
      },
      "source": [
        "#Visualisasi 10 Kategori produk yang dijual\n",
        "df[\"category_code\"].value_counts().head(10).plot.bar(figsize = (18,7))\n",
        "plt.title(\"Kategori Produk yang Dijual\", fontsize = 18)\n",
        "plt.xlabel(\"Jenis\", fontsize = 15)\n",
        "plt.ylabel(\"Jumlah\", fontsize=15)\n",
        "plt.show()"
      ],
      "execution_count": null,
      "outputs": [
        {
          "output_type": "display_data",
          "data": {
            "image/png": "[encoded data removed]",
            "text/plain": [
              "<Figure size 1296x504 with 1 Axes>"
            ]
          },
          "metadata": {
            "tags": [],
            "needs_background": "light"
          }
        }
      ]
    },
    {
      "cell_type": "code",
      "metadata": {
        "colab": {
          "base_uri": "https://localhost:8080/"
        },
        "id": "oSYXVvAE_avw",
        "outputId": "3f8bb027-d84e-46d2-fa45-cb83a5d317ba"
      },
      "source": [
        "#2.Apa saja brand yang dijual (dan paling sering dilihat)?\n",
        "df[\"brand\"].value_counts()\n"
      ],
      "execution_count": null,
      "outputs": [
        {
          "output_type": "execute_result",
          "data": {
            "text/plain": [
              "samsung        5282775\n",
              "apple          4122554\n",
              "xiaomi         3083763\n",
              "huawei         1111205\n",
              "lucente         655861\n",
              "                ...   \n",
              "bombora              1\n",
              "cornerstone          1\n",
              "nicalis              1\n",
              "t.bone               1\n",
              "drop                 1\n",
              "Name: brand, Length: 3444, dtype: int64"
            ]
          },
          "metadata": {
            "tags": []
          },
          "execution_count": 18
        }
      ]
    },
    {
      "cell_type": "markdown",
      "metadata": {
        "id": "JwZdCggj2RSw"
      },
      "source": [
        "Untuk top brand-nya adalah Samsung, Apple, Xiaomi, dst."
      ]
    },
    {
      "cell_type": "code",
      "metadata": {
        "colab": {
          "base_uri": "https://localhost:8080/",
          "height": 503
        },
        "id": "kz1Mn8yxAE2A",
        "outputId": "788e9fe8-01ac-4f42-9dde-51c5397b3a2b"
      },
      "source": [
        "#Visualisasi 10 Daftar Brand\n",
        "df[\"brand\"].value_counts().head(10).plot.bar(figsize = (18,7))\n",
        "plt.title(\"Daftar Brand\", fontsize = 18)\n",
        "plt.xlabel(\"Nama Brand\", fontsize = 15)\n",
        "plt.ylabel(\"Jumlah\", fontsize=15)\n",
        "plt.show()"
      ],
      "execution_count": null,
      "outputs": [
        {
          "output_type": "display_data",
          "data": {
            "image/png": "[encoded data removed]",
            "text/plain": [
              "<Figure size 1296x504 with 1 Axes>"
            ]
          },
          "metadata": {
            "tags": [],
            "needs_background": "light"
          }
        }
      ]
    },
    {
      "cell_type": "code",
      "metadata": {
        "colab": {
          "base_uri": "https://localhost:8080/",
          "height": 394
        },
        "id": "LD11ajZxShmj",
        "outputId": "b86b0d15-08fc-42f4-8235-90deebc0e11f"
      },
      "source": [
        "#3. Mengetahui Produk yang terlaris\n",
        "only_purchases = df.loc[df.event_type == \"purchase\"]\n",
        "purchases_with_brands = only_purchases.loc[only_purchases.brand.notnull()]\n",
        "top_brand = purchases_with_brands.groupby(\"brand\").brand.agg([len]).sort_values(by=\"len\", ascending= False)\n",
        "top_brand.head(10)"
      ],
      "execution_count": null,
      "outputs": [
        {
          "output_type": "execute_result",
          "data": {
            "text/html": [
              "<div>\n",
              "<style scoped>\n",
              "    .dataframe tbody tr th:only-of-type {\n",
              "        vertical-align: middle;\n",
              "    }\n",
              "\n",
              "    .dataframe tbody tr th {\n",
              "        vertical-align: top;\n",
              "    }\n",
              "\n",
              "    .dataframe thead th {\n",
              "        text-align: right;\n",
              "    }\n",
              "</style>\n",
              "<table border=\"1\" class=\"dataframe\">\n",
              "  <thead>\n",
              "    <tr style=\"text-align: right;\">\n",
              "      <th></th>\n",
              "      <th>len</th>\n",
              "    </tr>\n",
              "    <tr>\n",
              "      <th>brand</th>\n",
              "      <th></th>\n",
              "    </tr>\n",
              "  </thead>\n",
              "  <tbody>\n",
              "    <tr>\n",
              "      <th>samsung</th>\n",
              "      <td>172896</td>\n",
              "    </tr>\n",
              "    <tr>\n",
              "      <th>apple</th>\n",
              "      <td>142873</td>\n",
              "    </tr>\n",
              "    <tr>\n",
              "      <th>xiaomi</th>\n",
              "      <td>56616</td>\n",
              "    </tr>\n",
              "    <tr>\n",
              "      <th>huawei</th>\n",
              "      <td>23501</td>\n",
              "    </tr>\n",
              "    <tr>\n",
              "      <th>lucente</th>\n",
              "      <td>11578</td>\n",
              "    </tr>\n",
              "    <tr>\n",
              "      <th>oppo</th>\n",
              "      <td>10891</td>\n",
              "    </tr>\n",
              "    <tr>\n",
              "      <th>cordiant</th>\n",
              "      <td>10551</td>\n",
              "    </tr>\n",
              "    <tr>\n",
              "      <th>lg</th>\n",
              "      <td>8727</td>\n",
              "    </tr>\n",
              "    <tr>\n",
              "      <th>acer</th>\n",
              "      <td>6882</td>\n",
              "    </tr>\n",
              "    <tr>\n",
              "      <th>sony</th>\n",
              "      <td>6729</td>\n",
              "    </tr>\n",
              "  </tbody>\n",
              "</table>\n",
              "</div>"
            ],
            "text/plain": [
              "             len\n",
              "brand           \n",
              "samsung   172896\n",
              "apple     142873\n",
              "xiaomi     56616\n",
              "huawei     23501\n",
              "lucente    11578\n",
              "oppo       10891\n",
              "cordiant   10551\n",
              "lg          8727\n",
              "acer        6882\n",
              "sony        6729"
            ]
          },
          "metadata": {
            "tags": []
          },
          "execution_count": 19
        }
      ]
    },
    {
      "cell_type": "markdown",
      "metadata": {
        "id": "gKqhxNPT2g0v"
      },
      "source": [
        "Selain memiliki jumlah produk yang banyak, samsung juga berhasil meraih penjualan produk terbanyak"
      ]
    },
    {
      "cell_type": "code",
      "metadata": {
        "colab": {
          "base_uri": "https://localhost:8080/",
          "height": 503
        },
        "id": "eExeWgRPUAIB",
        "outputId": "3283993e-2a09-481c-ea6d-4014c187f967"
      },
      "source": [
        "#Visualisasi 10 Brand yang terlaris\n",
        "only_purchases[\"brand\"].value_counts().head(10).plot.bar(figsize = (18,7))\n",
        "plt.title(\"Top Brand Sold\", fontsize = 18)\n",
        "plt.xlabel(\"Nama Brand\", fontsize = 15)\n",
        "plt.ylabel(\"Jumlah\", fontsize=15)\n",
        "plt.show()"
      ],
      "execution_count": null,
      "outputs": [
        {
          "output_type": "display_data",
          "data": {
            "image/png": "[encoded data removed]",
            "text/plain": [
              "<Figure size 1296x504 with 1 Axes>"
            ]
          },
          "metadata": {
            "tags": [],
            "needs_background": "light"
          }
        }
      ]
    },
    {
      "cell_type": "markdown",
      "metadata": {
        "id": "9i9QaneiYNH8"
      },
      "source": [
        "# **User/Customer Data Analysis**\n",
        "\n",
        "Di bagian ini saya akan menganalisis perilaku dari user/customer di platform ini\n",
        "analisis yg dilakukan\n",
        "\n",
        "1. Melihat kegiatan sebagian user\n",
        "\n",
        "2. Melihat brp banyak customer yang melakukan repurchasing"
      ]
    },
    {
      "cell_type": "code",
      "metadata": {
        "colab": {
          "base_uri": "https://localhost:8080/",
          "height": 394
        },
        "id": "fBCtOIrhYfLH",
        "outputId": "b34055e8-e479-4ff3-8093-99dbe7152e06"
      },
      "source": [
        "#Customer no 1, dengan id 513351129\n",
        "user_session = 513351129\n",
        "df.loc[df[\"user_id\"] == user_session]"
      ],
      "execution_count": null,
      "outputs": [
        {
          "output_type": "execute_result",
          "data": {
            "text/html": [
              "<div>\n",
              "<style scoped>\n",
              "    .dataframe tbody tr th:only-of-type {\n",
              "        vertical-align: middle;\n",
              "    }\n",
              "\n",
              "    .dataframe tbody tr th {\n",
              "        vertical-align: top;\n",
              "    }\n",
              "\n",
              "    .dataframe thead th {\n",
              "        text-align: right;\n",
              "    }\n",
              "</style>\n",
              "<table border=\"1\" class=\"dataframe\">\n",
              "  <thead>\n",
              "    <tr style=\"text-align: right;\">\n",
              "      <th></th>\n",
              "      <th>event_time</th>\n",
              "      <th>event_type</th>\n",
              "      <th>product_id</th>\n",
              "      <th>category_id</th>\n",
              "      <th>category_code</th>\n",
              "      <th>brand</th>\n",
              "      <th>price</th>\n",
              "      <th>user_id</th>\n",
              "      <th>user_session</th>\n",
              "    </tr>\n",
              "  </thead>\n",
              "  <tbody>\n",
              "    <tr>\n",
              "      <th>1784033</th>\n",
              "      <td>2019-10-02 10:44:17 UTC</td>\n",
              "      <td>view</td>\n",
              "      <td>1004785</td>\n",
              "      <td>2053013555631882655</td>\n",
              "      <td>electronics.smartphone</td>\n",
              "      <td>huawei</td>\n",
              "      <td>276.67</td>\n",
              "      <td>513351129</td>\n",
              "      <td>14a86681-3bb8-401c-b48b-7147804a6697</td>\n",
              "    </tr>\n",
              "    <tr>\n",
              "      <th>1784133</th>\n",
              "      <td>2019-10-02 10:44:25 UTC</td>\n",
              "      <td>view</td>\n",
              "      <td>1004781</td>\n",
              "      <td>2053013555631882655</td>\n",
              "      <td>electronics.smartphone</td>\n",
              "      <td>huawei</td>\n",
              "      <td>275.43</td>\n",
              "      <td>513351129</td>\n",
              "      <td>14a86681-3bb8-401c-b48b-7147804a6697</td>\n",
              "    </tr>\n",
              "    <tr>\n",
              "      <th>1784417</th>\n",
              "      <td>2019-10-02 10:44:41 UTC</td>\n",
              "      <td>view</td>\n",
              "      <td>1004848</td>\n",
              "      <td>2053013555631882655</td>\n",
              "      <td>electronics.smartphone</td>\n",
              "      <td>huawei</td>\n",
              "      <td>663.85</td>\n",
              "      <td>513351129</td>\n",
              "      <td>14a86681-3bb8-401c-b48b-7147804a6697</td>\n",
              "    </tr>\n",
              "    <tr>\n",
              "      <th>1784564</th>\n",
              "      <td>2019-10-02 10:44:51 UTC</td>\n",
              "      <td>view</td>\n",
              "      <td>1004848</td>\n",
              "      <td>2053013555631882655</td>\n",
              "      <td>electronics.smartphone</td>\n",
              "      <td>huawei</td>\n",
              "      <td>663.85</td>\n",
              "      <td>513351129</td>\n",
              "      <td>14a86681-3bb8-401c-b48b-7147804a6697</td>\n",
              "    </tr>\n",
              "    <tr>\n",
              "      <th>2259061</th>\n",
              "      <td>2019-10-02 17:23:54 UTC</td>\n",
              "      <td>view</td>\n",
              "      <td>1004785</td>\n",
              "      <td>2053013555631882655</td>\n",
              "      <td>electronics.smartphone</td>\n",
              "      <td>huawei</td>\n",
              "      <td>274.91</td>\n",
              "      <td>513351129</td>\n",
              "      <td>b55bfeb2-b998-4995-b046-6b122638e956</td>\n",
              "    </tr>\n",
              "    <tr>\n",
              "      <th>2259971</th>\n",
              "      <td>2019-10-02 17:24:38 UTC</td>\n",
              "      <td>view</td>\n",
              "      <td>1004785</td>\n",
              "      <td>2053013555631882655</td>\n",
              "      <td>electronics.smartphone</td>\n",
              "      <td>huawei</td>\n",
              "      <td>274.91</td>\n",
              "      <td>513351129</td>\n",
              "      <td>b55bfeb2-b998-4995-b046-6b122638e956</td>\n",
              "    </tr>\n",
              "    <tr>\n",
              "      <th>2428406</th>\n",
              "      <td>2019-10-02 22:45:29 UTC</td>\n",
              "      <td>view</td>\n",
              "      <td>1004870</td>\n",
              "      <td>2053013555631882655</td>\n",
              "      <td>electronics.smartphone</td>\n",
              "      <td>samsung</td>\n",
              "      <td>286.84</td>\n",
              "      <td>513351129</td>\n",
              "      <td>5a7ba219-fdb5-4f59-8be9-55570daaa708</td>\n",
              "    </tr>\n",
              "    <tr>\n",
              "      <th>21769623</th>\n",
              "      <td>2019-10-16 17:40:53 UTC</td>\n",
              "      <td>view</td>\n",
              "      <td>4803977</td>\n",
              "      <td>2053013554658804075</td>\n",
              "      <td>electronics.audio.headphone</td>\n",
              "      <td>samsung</td>\n",
              "      <td>107.49</td>\n",
              "      <td>513351129</td>\n",
              "      <td>66f2a2b4-f260-4f60-a7f3-11a3b4668eec</td>\n",
              "    </tr>\n",
              "    <tr>\n",
              "      <th>24842400</th>\n",
              "      <td>2019-10-18 22:36:43 UTC</td>\n",
              "      <td>view</td>\n",
              "      <td>26600176</td>\n",
              "      <td>2053013563450065759</td>\n",
              "      <td>NaN</td>\n",
              "      <td>lucente</td>\n",
              "      <td>17.76</td>\n",
              "      <td>513351129</td>\n",
              "      <td>f1b5f24b-2c3c-466f-b9b6-16cb93a57444</td>\n",
              "    </tr>\n",
              "    <tr>\n",
              "      <th>32537132</th>\n",
              "      <td>2019-10-24 10:04:23 UTC</td>\n",
              "      <td>view</td>\n",
              "      <td>42000012</td>\n",
              "      <td>2102307650380235197</td>\n",
              "      <td>NaN</td>\n",
              "      <td>pt-group</td>\n",
              "      <td>180.18</td>\n",
              "      <td>513351129</td>\n",
              "      <td>8775d288-88b2-4934-b435-36a927827595</td>\n",
              "    </tr>\n",
              "    <tr>\n",
              "      <th>32549149</th>\n",
              "      <td>2019-10-24 10:14:58 UTC</td>\n",
              "      <td>view</td>\n",
              "      <td>5801218</td>\n",
              "      <td>2053013553945772349</td>\n",
              "      <td>electronics.audio.subwoofer</td>\n",
              "      <td>NaN</td>\n",
              "      <td>41.70</td>\n",
              "      <td>513351129</td>\n",
              "      <td>5970d447-3625-4cae-9229-82d0113eb083</td>\n",
              "    </tr>\n",
              "  </tbody>\n",
              "</table>\n",
              "</div>"
            ],
            "text/plain": [
              "                       event_time  ...                          user_session\n",
              "1784033   2019-10-02 10:44:17 UTC  ...  14a86681-3bb8-401c-b48b-7147804a6697\n",
              "1784133   2019-10-02 10:44:25 UTC  ...  14a86681-3bb8-401c-b48b-7147804a6697\n",
              "1784417   2019-10-02 10:44:41 UTC  ...  14a86681-3bb8-401c-b48b-7147804a6697\n",
              "1784564   2019-10-02 10:44:51 UTC  ...  14a86681-3bb8-401c-b48b-7147804a6697\n",
              "2259061   2019-10-02 17:23:54 UTC  ...  b55bfeb2-b998-4995-b046-6b122638e956\n",
              "2259971   2019-10-02 17:24:38 UTC  ...  b55bfeb2-b998-4995-b046-6b122638e956\n",
              "2428406   2019-10-02 22:45:29 UTC  ...  5a7ba219-fdb5-4f59-8be9-55570daaa708\n",
              "21769623  2019-10-16 17:40:53 UTC  ...  66f2a2b4-f260-4f60-a7f3-11a3b4668eec\n",
              "24842400  2019-10-18 22:36:43 UTC  ...  f1b5f24b-2c3c-466f-b9b6-16cb93a57444\n",
              "32537132  2019-10-24 10:04:23 UTC  ...  8775d288-88b2-4934-b435-36a927827595\n",
              "32549149  2019-10-24 10:14:58 UTC  ...  5970d447-3625-4cae-9229-82d0113eb083\n",
              "\n",
              "[11 rows x 9 columns]"
            ]
          },
          "metadata": {
            "tags": []
          },
          "execution_count": 13
        }
      ]
    },
    {
      "cell_type": "markdown",
      "metadata": {
        "id": "yesAUP8y2qM5"
      },
      "source": [
        "Untuk Customer dengan ID = 513351129 , hanya melakukan kegiatan view"
      ]
    },
    {
      "cell_type": "code",
      "metadata": {
        "colab": {
          "base_uri": "https://localhost:8080/",
          "height": 423
        },
        "id": "l4zZ6lTcluL8",
        "outputId": "d4af66be-4bf4-4061-b13a-46d724a8b85a"
      },
      "source": [
        "#Customer no 2, dengan id 535871217\n",
        "user_session2 = 535871217\n",
        "df.loc[df[\"user_id\"] == user_session2]"
      ],
      "execution_count": null,
      "outputs": [
        {
          "output_type": "execute_result",
          "data": {
            "text/html": [
              "<div>\n",
              "<style scoped>\n",
              "    .dataframe tbody tr th:only-of-type {\n",
              "        vertical-align: middle;\n",
              "    }\n",
              "\n",
              "    .dataframe tbody tr th {\n",
              "        vertical-align: top;\n",
              "    }\n",
              "\n",
              "    .dataframe thead th {\n",
              "        text-align: right;\n",
              "    }\n",
              "</style>\n",
              "<table border=\"1\" class=\"dataframe\">\n",
              "  <thead>\n",
              "    <tr style=\"text-align: right;\">\n",
              "      <th></th>\n",
              "      <th>event_time</th>\n",
              "      <th>event_type</th>\n",
              "      <th>product_id</th>\n",
              "      <th>category_id</th>\n",
              "      <th>category_code</th>\n",
              "      <th>brand</th>\n",
              "      <th>price</th>\n",
              "      <th>user_id</th>\n",
              "      <th>user_session</th>\n",
              "    </tr>\n",
              "  </thead>\n",
              "  <tbody>\n",
              "    <tr>\n",
              "      <th>4</th>\n",
              "      <td>2019-10-01 00:00:04 UTC</td>\n",
              "      <td>view</td>\n",
              "      <td>1004237</td>\n",
              "      <td>2053013555631882655</td>\n",
              "      <td>electronics.smartphone</td>\n",
              "      <td>apple</td>\n",
              "      <td>1081.98</td>\n",
              "      <td>535871217</td>\n",
              "      <td>c6bd7419-2748-4c56-95b4-8cec9ff8b80d</td>\n",
              "    </tr>\n",
              "    <tr>\n",
              "      <th>19</th>\n",
              "      <td>2019-10-01 00:00:19 UTC</td>\n",
              "      <td>view</td>\n",
              "      <td>1005135</td>\n",
              "      <td>2053013555631882655</td>\n",
              "      <td>electronics.smartphone</td>\n",
              "      <td>apple</td>\n",
              "      <td>1747.79</td>\n",
              "      <td>535871217</td>\n",
              "      <td>c6bd7419-2748-4c56-95b4-8cec9ff8b80d</td>\n",
              "    </tr>\n",
              "    <tr>\n",
              "      <th>54</th>\n",
              "      <td>2019-10-01 00:00:43 UTC</td>\n",
              "      <td>view</td>\n",
              "      <td>1005135</td>\n",
              "      <td>2053013555631882655</td>\n",
              "      <td>electronics.smartphone</td>\n",
              "      <td>apple</td>\n",
              "      <td>1747.79</td>\n",
              "      <td>535871217</td>\n",
              "      <td>c6bd7419-2748-4c56-95b4-8cec9ff8b80d</td>\n",
              "    </tr>\n",
              "    <tr>\n",
              "      <th>586893</th>\n",
              "      <td>2019-10-01 11:42:40 UTC</td>\n",
              "      <td>view</td>\n",
              "      <td>1005014</td>\n",
              "      <td>2053013555631882655</td>\n",
              "      <td>electronics.smartphone</td>\n",
              "      <td>samsung</td>\n",
              "      <td>614.53</td>\n",
              "      <td>535871217</td>\n",
              "      <td>2b1311db-31c8-498b-b5f1-6f9a107580b5</td>\n",
              "    </tr>\n",
              "    <tr>\n",
              "      <th>587599</th>\n",
              "      <td>2019-10-01 11:43:19 UTC</td>\n",
              "      <td>view</td>\n",
              "      <td>1005014</td>\n",
              "      <td>2053013555631882655</td>\n",
              "      <td>electronics.smartphone</td>\n",
              "      <td>samsung</td>\n",
              "      <td>614.53</td>\n",
              "      <td>535871217</td>\n",
              "      <td>2b1311db-31c8-498b-b5f1-6f9a107580b5</td>\n",
              "    </tr>\n",
              "    <tr>\n",
              "      <th>...</th>\n",
              "      <td>...</td>\n",
              "      <td>...</td>\n",
              "      <td>...</td>\n",
              "      <td>...</td>\n",
              "      <td>...</td>\n",
              "      <td>...</td>\n",
              "      <td>...</td>\n",
              "      <td>...</td>\n",
              "      <td>...</td>\n",
              "    </tr>\n",
              "    <tr>\n",
              "      <th>38319231</th>\n",
              "      <td>2019-10-28 14:50:58 UTC</td>\n",
              "      <td>view</td>\n",
              "      <td>17200651</td>\n",
              "      <td>2053013559792632471</td>\n",
              "      <td>furniture.living_room.sofa</td>\n",
              "      <td>NaN</td>\n",
              "      <td>437.33</td>\n",
              "      <td>535871217</td>\n",
              "      <td>4f58d274-8eb4-4d57-b425-48a750fd08cf</td>\n",
              "    </tr>\n",
              "    <tr>\n",
              "      <th>38319524</th>\n",
              "      <td>2019-10-28 14:51:10 UTC</td>\n",
              "      <td>view</td>\n",
              "      <td>17200651</td>\n",
              "      <td>2053013559792632471</td>\n",
              "      <td>furniture.living_room.sofa</td>\n",
              "      <td>NaN</td>\n",
              "      <td>437.33</td>\n",
              "      <td>535871217</td>\n",
              "      <td>4f58d274-8eb4-4d57-b425-48a750fd08cf</td>\n",
              "    </tr>\n",
              "    <tr>\n",
              "      <th>38320328</th>\n",
              "      <td>2019-10-28 14:51:45 UTC</td>\n",
              "      <td>view</td>\n",
              "      <td>17200454</td>\n",
              "      <td>2053013559792632471</td>\n",
              "      <td>furniture.living_room.sofa</td>\n",
              "      <td>NaN</td>\n",
              "      <td>540.53</td>\n",
              "      <td>535871217</td>\n",
              "      <td>4f58d274-8eb4-4d57-b425-48a750fd08cf</td>\n",
              "    </tr>\n",
              "    <tr>\n",
              "      <th>38321046</th>\n",
              "      <td>2019-10-28 14:52:15 UTC</td>\n",
              "      <td>view</td>\n",
              "      <td>17200454</td>\n",
              "      <td>2053013559792632471</td>\n",
              "      <td>furniture.living_room.sofa</td>\n",
              "      <td>NaN</td>\n",
              "      <td>540.53</td>\n",
              "      <td>535871217</td>\n",
              "      <td>4f58d274-8eb4-4d57-b425-48a750fd08cf</td>\n",
              "    </tr>\n",
              "    <tr>\n",
              "      <th>38333548</th>\n",
              "      <td>2019-10-28 15:00:59 UTC</td>\n",
              "      <td>view</td>\n",
              "      <td>17200651</td>\n",
              "      <td>2053013559792632471</td>\n",
              "      <td>furniture.living_room.sofa</td>\n",
              "      <td>NaN</td>\n",
              "      <td>437.33</td>\n",
              "      <td>535871217</td>\n",
              "      <td>21fdb6e1-76ed-4451-b02e-b7d65c337f8a</td>\n",
              "    </tr>\n",
              "  </tbody>\n",
              "</table>\n",
              "<p>91 rows × 9 columns</p>\n",
              "</div>"
            ],
            "text/plain": [
              "                       event_time  ...                          user_session\n",
              "4         2019-10-01 00:00:04 UTC  ...  c6bd7419-2748-4c56-95b4-8cec9ff8b80d\n",
              "19        2019-10-01 00:00:19 UTC  ...  c6bd7419-2748-4c56-95b4-8cec9ff8b80d\n",
              "54        2019-10-01 00:00:43 UTC  ...  c6bd7419-2748-4c56-95b4-8cec9ff8b80d\n",
              "586893    2019-10-01 11:42:40 UTC  ...  2b1311db-31c8-498b-b5f1-6f9a107580b5\n",
              "587599    2019-10-01 11:43:19 UTC  ...  2b1311db-31c8-498b-b5f1-6f9a107580b5\n",
              "...                           ...  ...                                   ...\n",
              "38319231  2019-10-28 14:50:58 UTC  ...  4f58d274-8eb4-4d57-b425-48a750fd08cf\n",
              "38319524  2019-10-28 14:51:10 UTC  ...  4f58d274-8eb4-4d57-b425-48a750fd08cf\n",
              "38320328  2019-10-28 14:51:45 UTC  ...  4f58d274-8eb4-4d57-b425-48a750fd08cf\n",
              "38321046  2019-10-28 14:52:15 UTC  ...  4f58d274-8eb4-4d57-b425-48a750fd08cf\n",
              "38333548  2019-10-28 15:00:59 UTC  ...  21fdb6e1-76ed-4451-b02e-b7d65c337f8a\n",
              "\n",
              "[91 rows x 9 columns]"
            ]
          },
          "metadata": {
            "tags": []
          },
          "execution_count": 14
        }
      ]
    },
    {
      "cell_type": "markdown",
      "metadata": {
        "id": "VZw-MoKl278s"
      },
      "source": [
        "Untuk customer dengan id 513351129, sepertinya hanya melakukan view\n"
      ]
    },
    {
      "cell_type": "code",
      "metadata": {
        "colab": {
          "base_uri": "https://localhost:8080/",
          "height": 423
        },
        "id": "iABYga2mmJAG",
        "outputId": "75a71d83-e823-4f9c-8186-5c5f9ca6b1ae"
      },
      "source": [
        "#Customer no 3, dengan id 551377651\n",
        "user_session3 = 551377651\n",
        "df.loc[df[\"user_id\"] == user_session3]"
      ],
      "execution_count": null,
      "outputs": [
        {
          "output_type": "execute_result",
          "data": {
            "text/html": [
              "<div>\n",
              "<style scoped>\n",
              "    .dataframe tbody tr th:only-of-type {\n",
              "        vertical-align: middle;\n",
              "    }\n",
              "\n",
              "    .dataframe tbody tr th {\n",
              "        vertical-align: top;\n",
              "    }\n",
              "\n",
              "    .dataframe thead th {\n",
              "        text-align: right;\n",
              "    }\n",
              "</style>\n",
              "<table border=\"1\" class=\"dataframe\">\n",
              "  <thead>\n",
              "    <tr style=\"text-align: right;\">\n",
              "      <th></th>\n",
              "      <th>event_time</th>\n",
              "      <th>event_type</th>\n",
              "      <th>product_id</th>\n",
              "      <th>category_id</th>\n",
              "      <th>category_code</th>\n",
              "      <th>brand</th>\n",
              "      <th>price</th>\n",
              "      <th>user_id</th>\n",
              "      <th>user_session</th>\n",
              "    </tr>\n",
              "  </thead>\n",
              "  <tbody>\n",
              "    <tr>\n",
              "      <th>51</th>\n",
              "      <td>2019-10-01 00:00:41 UTC</td>\n",
              "      <td>view</td>\n",
              "      <td>1003141</td>\n",
              "      <td>2053013555631882655</td>\n",
              "      <td>electronics.smartphone</td>\n",
              "      <td>apple</td>\n",
              "      <td>382.97</td>\n",
              "      <td>551377651</td>\n",
              "      <td>ca11a570-47da-4630-898b-9a03127703da</td>\n",
              "    </tr>\n",
              "    <tr>\n",
              "      <th>127</th>\n",
              "      <td>2019-10-01 00:01:45 UTC</td>\n",
              "      <td>view</td>\n",
              "      <td>1003305</td>\n",
              "      <td>2053013555631882655</td>\n",
              "      <td>electronics.smartphone</td>\n",
              "      <td>apple</td>\n",
              "      <td>612.43</td>\n",
              "      <td>551377651</td>\n",
              "      <td>3c80f0d6-e9ec-4181-8c5c-837a30be2d68</td>\n",
              "    </tr>\n",
              "    <tr>\n",
              "      <th>152</th>\n",
              "      <td>2019-10-01 00:02:08 UTC</td>\n",
              "      <td>view</td>\n",
              "      <td>1002528</td>\n",
              "      <td>2053013555631882655</td>\n",
              "      <td>electronics.smartphone</td>\n",
              "      <td>apple</td>\n",
              "      <td>643.23</td>\n",
              "      <td>551377651</td>\n",
              "      <td>3c80f0d6-e9ec-4181-8c5c-837a30be2d68</td>\n",
              "    </tr>\n",
              "    <tr>\n",
              "      <th>200</th>\n",
              "      <td>2019-10-01 00:02:47 UTC</td>\n",
              "      <td>view</td>\n",
              "      <td>1002532</td>\n",
              "      <td>2053013555631882655</td>\n",
              "      <td>electronics.smartphone</td>\n",
              "      <td>apple</td>\n",
              "      <td>642.69</td>\n",
              "      <td>551377651</td>\n",
              "      <td>3c80f0d6-e9ec-4181-8c5c-837a30be2d68</td>\n",
              "    </tr>\n",
              "    <tr>\n",
              "      <th>308</th>\n",
              "      <td>2019-10-01 00:04:37 UTC</td>\n",
              "      <td>purchase</td>\n",
              "      <td>1002532</td>\n",
              "      <td>2053013555631882655</td>\n",
              "      <td>electronics.smartphone</td>\n",
              "      <td>apple</td>\n",
              "      <td>642.69</td>\n",
              "      <td>551377651</td>\n",
              "      <td>3c80f0d6-e9ec-4181-8c5c-837a30be2d68</td>\n",
              "    </tr>\n",
              "    <tr>\n",
              "      <th>...</th>\n",
              "      <td>...</td>\n",
              "      <td>...</td>\n",
              "      <td>...</td>\n",
              "      <td>...</td>\n",
              "      <td>...</td>\n",
              "      <td>...</td>\n",
              "      <td>...</td>\n",
              "      <td>...</td>\n",
              "      <td>...</td>\n",
              "    </tr>\n",
              "    <tr>\n",
              "      <th>33574672</th>\n",
              "      <td>2019-10-25 05:55:34 UTC</td>\n",
              "      <td>purchase</td>\n",
              "      <td>1004858</td>\n",
              "      <td>2053013555631882655</td>\n",
              "      <td>electronics.smartphone</td>\n",
              "      <td>samsung</td>\n",
              "      <td>131.53</td>\n",
              "      <td>551377651</td>\n",
              "      <td>6036eaf8-9974-4942-a0e8-cd9f8bcb2ba0</td>\n",
              "    </tr>\n",
              "    <tr>\n",
              "      <th>33575311</th>\n",
              "      <td>2019-10-25 05:56:06 UTC</td>\n",
              "      <td>view</td>\n",
              "      <td>1004858</td>\n",
              "      <td>2053013555631882655</td>\n",
              "      <td>electronics.smartphone</td>\n",
              "      <td>samsung</td>\n",
              "      <td>131.53</td>\n",
              "      <td>551377651</td>\n",
              "      <td>6036eaf8-9974-4942-a0e8-cd9f8bcb2ba0</td>\n",
              "    </tr>\n",
              "    <tr>\n",
              "      <th>33575493</th>\n",
              "      <td>2019-10-25 05:56:16 UTC</td>\n",
              "      <td>cart</td>\n",
              "      <td>1004858</td>\n",
              "      <td>2053013555631882655</td>\n",
              "      <td>electronics.smartphone</td>\n",
              "      <td>samsung</td>\n",
              "      <td>131.53</td>\n",
              "      <td>551377651</td>\n",
              "      <td>6036eaf8-9974-4942-a0e8-cd9f8bcb2ba0</td>\n",
              "    </tr>\n",
              "    <tr>\n",
              "      <th>33576017</th>\n",
              "      <td>2019-10-25 05:56:40 UTC</td>\n",
              "      <td>purchase</td>\n",
              "      <td>1004858</td>\n",
              "      <td>2053013555631882655</td>\n",
              "      <td>electronics.smartphone</td>\n",
              "      <td>samsung</td>\n",
              "      <td>131.53</td>\n",
              "      <td>551377651</td>\n",
              "      <td>6036eaf8-9974-4942-a0e8-cd9f8bcb2ba0</td>\n",
              "    </tr>\n",
              "    <tr>\n",
              "      <th>33576532</th>\n",
              "      <td>2019-10-25 05:57:05 UTC</td>\n",
              "      <td>view</td>\n",
              "      <td>1004858</td>\n",
              "      <td>2053013555631882655</td>\n",
              "      <td>electronics.smartphone</td>\n",
              "      <td>samsung</td>\n",
              "      <td>131.53</td>\n",
              "      <td>551377651</td>\n",
              "      <td>6036eaf8-9974-4942-a0e8-cd9f8bcb2ba0</td>\n",
              "    </tr>\n",
              "  </tbody>\n",
              "</table>\n",
              "<p>106 rows × 9 columns</p>\n",
              "</div>"
            ],
            "text/plain": [
              "                       event_time  ...                          user_session\n",
              "51        2019-10-01 00:00:41 UTC  ...  ca11a570-47da-4630-898b-9a03127703da\n",
              "127       2019-10-01 00:01:45 UTC  ...  3c80f0d6-e9ec-4181-8c5c-837a30be2d68\n",
              "152       2019-10-01 00:02:08 UTC  ...  3c80f0d6-e9ec-4181-8c5c-837a30be2d68\n",
              "200       2019-10-01 00:02:47 UTC  ...  3c80f0d6-e9ec-4181-8c5c-837a30be2d68\n",
              "308       2019-10-01 00:04:37 UTC  ...  3c80f0d6-e9ec-4181-8c5c-837a30be2d68\n",
              "...                           ...  ...                                   ...\n",
              "33574672  2019-10-25 05:55:34 UTC  ...  6036eaf8-9974-4942-a0e8-cd9f8bcb2ba0\n",
              "33575311  2019-10-25 05:56:06 UTC  ...  6036eaf8-9974-4942-a0e8-cd9f8bcb2ba0\n",
              "33575493  2019-10-25 05:56:16 UTC  ...  6036eaf8-9974-4942-a0e8-cd9f8bcb2ba0\n",
              "33576017  2019-10-25 05:56:40 UTC  ...  6036eaf8-9974-4942-a0e8-cd9f8bcb2ba0\n",
              "33576532  2019-10-25 05:57:05 UTC  ...  6036eaf8-9974-4942-a0e8-cd9f8bcb2ba0\n",
              "\n",
              "[106 rows x 9 columns]"
            ]
          },
          "metadata": {
            "tags": []
          },
          "execution_count": 15
        }
      ]
    },
    {
      "cell_type": "markdown",
      "metadata": {
        "id": "1G4PYGDd3B7Q"
      },
      "source": [
        "Untuk customer dengan id= 551377651, melakukan semua kegiatan. Contohnya\n",
        "\n",
        "Mengacu pada row 51 sampai 200, customer tsb melakukan window shopping dan akhirnya memutuskan membeli pada produk apple yang ia lihat pada row 200.\n",
        "\n",
        "Selain itu, pada tgl 25 (row 33575311), customer tersebut melakukan view --> carting --> purchase produk samsung."
      ]
    },
    {
      "cell_type": "markdown",
      "metadata": {
        "id": "zINC_p8xnLME"
      },
      "source": [
        "**Menghitung brp banyak customer **"
      ]
    },
    {
      "cell_type": "code",
      "metadata": {
        "id": "0BXxEvw5nKg6"
      },
      "source": [
        "#Creating customer table\n",
        "\n",
        "#Filtering sales activities\n",
        "sales_filter=df['event_type']=='purchase'\n",
        "Customer_table=df.loc[sales_filter].groupby(by=['user_id']).agg(number_of_purchases=('user_id','count'),\n",
        "                                                                     total_sales=('price','sum')).reset_index()"
      ],
      "execution_count": null,
      "outputs": []
    },
    {
      "cell_type": "code",
      "metadata": {
        "colab": {
          "base_uri": "https://localhost:8080/"
        },
        "id": "oGShxmT6r7tk",
        "outputId": "d1ee5889-46f9-494d-81d1-b94b9ce75441"
      },
      "source": [
        "#Calculating number of customers who bought something\n",
        "Number_of_customers_who_bought_smt=Customer_table['user_id'].nunique()\n",
        "print('There are {:,.0f} customers, who purchased in October.'.format(Number_of_customers_who_bought_smt))\n",
        "\n",
        "#Calculating number of purchase activities for each customer\n",
        "print('-'*50)\n",
        "print('Distribution of Customer by Number of Purchases')\n",
        "print(Customer_table['number_of_purchases'].value_counts(normalize=True).head(10))\n",
        "\n",
        "#Calculationg repeat customers number\n",
        "print('-'*50)\n",
        "more_than_one_purchase_filter=Customer_table['number_of_purchases']>1\n",
        "Number_of_customers_who_bought_more_than_once=Customer_table.loc[more_than_one_purchase_filter].shape[0]\n",
        "print('There are {:,.0f} repeat customers, who bought more than once.'.format(Number_of_customers_who_bought_more_than_once))"
      ],
      "execution_count": null,
      "outputs": [
        {
          "output_type": "stream",
          "text": [
            "There are 347,118 customers, who purchased in October.\n",
            "--------------------------------------------------\n",
            "Distribution of Customer by Number of Purchases\n",
            "1     0.621377\n",
            "2     0.188910\n",
            "3     0.074525\n",
            "4     0.037696\n",
            "5     0.021186\n",
            "6     0.013523\n",
            "7     0.009055\n",
            "8     0.006470\n",
            "9     0.004828\n",
            "10    0.003397\n",
            "Name: number_of_purchases, dtype: float64\n",
            "--------------------------------------------------\n",
            "There are 131,427 repeat customers, who bought more than once.\n"
          ],
          "name": "stdout"
        }
      ]
    },
    {
      "cell_type": "markdown",
      "metadata": {
        "id": "kCzOqBSsQVeD"
      },
      "source": [
        "#**Insight & Rekomendasi**\n",
        "\n",
        "Untuk traffict website, di awal bulan dan akhir bulan mengadakan promosi & iklan sehingga bisa menarik pelanggan untuk berkunjung ke website, sehingga bisa menaikkan traffic website.\n",
        "\n",
        "Untuk event_type agar customer tidak hanya melakukan window shopping, sebaiknya juga memberikan promo agar customer tertarik untuk membeli daripada cuma melihat-lihat\n",
        "\n",
        "untuk Brand, bisa memberikan diskon untuk bbrp product yg kurang begitu laku agar product yg kurang laku bisa segera terjual\n",
        "\n",
        "Untuk sisi customer, diketahui bahwa customer yang membeli lagi dari platform ini tidak sampai setengah dari jumlah pembeli, oleh karena itu untuk meningkatkan loyalitas customer bisa dilakukan reward / pemberian loyalty poin ataupun promosi agar customer semakin tertarik untuk berbelanja di platform ini."
      ]
    },
    {
      "cell_type": "markdown",
      "metadata": {
        "id": "lEsHXjam5L9K"
      },
      "source": [
        "# **Bibliography**"
      ]
    },
    {
      "cell_type": "markdown",
      "metadata": {
        "id": "I99D7TBN5VlZ"
      },
      "source": [
        "**Kaggle**\n",
        "\n",
        "      1. https://www.kaggle.com/mkechinov/ecommerce-data-overview\n",
        "\n",
        "      2. https://www.kaggle.com/tshephisho/ecommerce-behaviour-using-xgboost#Vistors-Daily-Trend\n",
        "\n",
        "      3. https://www.kaggle.com/fernandateixeira/ecommerce-behavior-data-projetoaplicadodatascience#PROJETO-APLICADO\n",
        "\n",
        "      4. https://www.kaggle.com/anarsultani97/eda-fpmc#Installing-The-Dataset-&-Finding-Missing-Values\n",
        "\n",
        "      5. https://www.kaggle.com/adilemrebilgic/e-commerce-analytics#Customer-Analysis\n",
        "\n",
        "**Github**\n",
        "\n",
        "      1. https://github.com/andypwyu/eCommerce-behavior/blob/master/eCommerce%20behavior%20data%20from%20multi%20category%20store.ipynb"
      ]
    }
  ]
}
